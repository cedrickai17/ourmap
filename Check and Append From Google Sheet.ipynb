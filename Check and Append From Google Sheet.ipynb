{
 "cells": [
  {
   "cell_type": "code",
   "execution_count": 1,
   "id": "1f10f7a7",
   "metadata": {},
   "outputs": [],
   "source": [
    "import pandas as pd\n",
    "from datetime import datetime as dt"
   ]
  },
  {
   "cell_type": "code",
   "execution_count": 8,
   "id": "741ef434",
   "metadata": {},
   "outputs": [
    {
     "data": {
      "text/html": [
       "<div>\n",
       "<style scoped>\n",
       "    .dataframe tbody tr th:only-of-type {\n",
       "        vertical-align: middle;\n",
       "    }\n",
       "\n",
       "    .dataframe tbody tr th {\n",
       "        vertical-align: top;\n",
       "    }\n",
       "\n",
       "    .dataframe thead th {\n",
       "        text-align: right;\n",
       "    }\n",
       "</style>\n",
       "<table border=\"1\" class=\"dataframe\">\n",
       "  <thead>\n",
       "    <tr style=\"text-align: right;\">\n",
       "      <th></th>\n",
       "      <th>Lat</th>\n",
       "      <th>Lon</th>\n",
       "      <th>Address</th>\n",
       "      <th>Icon</th>\n",
       "      <th>Colour</th>\n",
       "    </tr>\n",
       "  </thead>\n",
       "  <tbody>\n",
       "    <tr>\n",
       "      <th>0</th>\n",
       "      <td>1.356417</td>\n",
       "      <td>103.871870</td>\n",
       "      <td>Serangoon Community Park</td>\n",
       "      <td>house</td>\n",
       "      <td>red</td>\n",
       "    </tr>\n",
       "    <tr>\n",
       "      <th>1</th>\n",
       "      <td>1.277770</td>\n",
       "      <td>103.846331</td>\n",
       "      <td>Cafe Kremes</td>\n",
       "      <td>house</td>\n",
       "      <td>red</td>\n",
       "    </tr>\n",
       "    <tr>\n",
       "      <th>2</th>\n",
       "      <td>1.365789</td>\n",
       "      <td>103.866922</td>\n",
       "      <td>Serangoon Gardens</td>\n",
       "      <td>house</td>\n",
       "      <td>red</td>\n",
       "    </tr>\n",
       "  </tbody>\n",
       "</table>\n",
       "</div>"
      ],
      "text/plain": [
       "        Lat         Lon                   Address   Icon Colour\n",
       "0  1.356417  103.871870  Serangoon Community Park  house    red\n",
       "1  1.277770  103.846331               Cafe Kremes  house    red\n",
       "2  1.365789  103.866922         Serangoon Gardens  house    red"
      ]
     },
     "execution_count": 8,
     "metadata": {},
     "output_type": "execute_result"
    }
   ],
   "source": [
    "sheet_id = '1j1T54UNgcUnM80YTbwn158PfrOuGOk8C5KBiAHTaHik'\n",
    "sheet_name = 'Sheet1'\n",
    "url = f\"https://docs.google.com/spreadsheets/d/{sheet_id}/gviz/tq?tqx=out:csv&sheet={sheet_name}\"\n",
    "\n",
    "df_google_sheet = pd.read_csv(url)\n",
    "df_google_sheet"
   ]
  },
  {
   "cell_type": "code",
   "execution_count": 9,
   "id": "0b75e2c5",
   "metadata": {},
   "outputs": [
    {
     "data": {
      "text/html": [
       "<div>\n",
       "<style scoped>\n",
       "    .dataframe tbody tr th:only-of-type {\n",
       "        vertical-align: middle;\n",
       "    }\n",
       "\n",
       "    .dataframe tbody tr th {\n",
       "        vertical-align: top;\n",
       "    }\n",
       "\n",
       "    .dataframe thead th {\n",
       "        text-align: right;\n",
       "    }\n",
       "</style>\n",
       "<table border=\"1\" class=\"dataframe\">\n",
       "  <thead>\n",
       "    <tr style=\"text-align: right;\">\n",
       "      <th></th>\n",
       "      <th>Lat</th>\n",
       "      <th>Lon</th>\n",
       "      <th>Address</th>\n",
       "      <th>Icon</th>\n",
       "      <th>Colour</th>\n",
       "    </tr>\n",
       "  </thead>\n",
       "  <tbody>\n",
       "    <tr>\n",
       "      <th>0</th>\n",
       "      <td>1.361187</td>\n",
       "      <td>103.938798</td>\n",
       "      <td>Our House</td>\n",
       "      <td>NaN</td>\n",
       "      <td>NaN</td>\n",
       "    </tr>\n",
       "    <tr>\n",
       "      <th>1</th>\n",
       "      <td>1.327124</td>\n",
       "      <td>103.721782</td>\n",
       "      <td>Jesleen House</td>\n",
       "      <td>NaN</td>\n",
       "      <td>NaN</td>\n",
       "    </tr>\n",
       "    <tr>\n",
       "      <th>2</th>\n",
       "      <td>1.303980</td>\n",
       "      <td>103.832032</td>\n",
       "      <td>Ion Orchard</td>\n",
       "      <td>NaN</td>\n",
       "      <td>NaN</td>\n",
       "    </tr>\n",
       "    <tr>\n",
       "      <th>3</th>\n",
       "      <td>1.356417</td>\n",
       "      <td>103.871870</td>\n",
       "      <td>Serangoon Community Park</td>\n",
       "      <td>house</td>\n",
       "      <td>red</td>\n",
       "    </tr>\n",
       "    <tr>\n",
       "      <th>4</th>\n",
       "      <td>1.277770</td>\n",
       "      <td>103.846331</td>\n",
       "      <td>Cafe Kremes</td>\n",
       "      <td>house</td>\n",
       "      <td>red</td>\n",
       "    </tr>\n",
       "  </tbody>\n",
       "</table>\n",
       "</div>"
      ],
      "text/plain": [
       "        Lat         Lon                   Address   Icon Colour\n",
       "0  1.361187  103.938798                 Our House    NaN    NaN\n",
       "1  1.327124  103.721782             Jesleen House    NaN    NaN\n",
       "2  1.303980  103.832032               Ion Orchard    NaN    NaN\n",
       "3  1.356417  103.871870  Serangoon Community Park  house    red\n",
       "4  1.277770  103.846331               Cafe Kremes  house    red"
      ]
     },
     "execution_count": 9,
     "metadata": {},
     "output_type": "execute_result"
    }
   ],
   "source": [
    "df_input_file = pd.read_csv('input_file.csv')\n",
    "df_input_file"
   ]
  },
  {
   "cell_type": "code",
   "execution_count": 10,
   "id": "c85eb233",
   "metadata": {},
   "outputs": [
    {
     "name": "stderr",
     "output_type": "stream",
     "text": [
      "/tmp/ipykernel_242972/1771932555.py:1: FutureWarning: The frame.append method is deprecated and will be removed from pandas in a future version. Use pandas.concat instead.\n",
      "  df_combined = df_input_file.append(df_google_sheet)\n"
     ]
    }
   ],
   "source": [
    "df_combined = df_input_file.append(df_google_sheet)\n",
    "df_combined.reset_index(drop=True,inplace=True)"
   ]
  },
  {
   "cell_type": "code",
   "execution_count": 11,
   "id": "46dc4e0e",
   "metadata": {},
   "outputs": [
    {
     "data": {
      "text/html": [
       "<div>\n",
       "<style scoped>\n",
       "    .dataframe tbody tr th:only-of-type {\n",
       "        vertical-align: middle;\n",
       "    }\n",
       "\n",
       "    .dataframe tbody tr th {\n",
       "        vertical-align: top;\n",
       "    }\n",
       "\n",
       "    .dataframe thead th {\n",
       "        text-align: right;\n",
       "    }\n",
       "</style>\n",
       "<table border=\"1\" class=\"dataframe\">\n",
       "  <thead>\n",
       "    <tr style=\"text-align: right;\">\n",
       "      <th></th>\n",
       "      <th>Lat</th>\n",
       "      <th>Lon</th>\n",
       "      <th>Address</th>\n",
       "      <th>Icon</th>\n",
       "      <th>Colour</th>\n",
       "    </tr>\n",
       "  </thead>\n",
       "  <tbody>\n",
       "    <tr>\n",
       "      <th>0</th>\n",
       "      <td>1.361187</td>\n",
       "      <td>103.938798</td>\n",
       "      <td>Our House</td>\n",
       "      <td>NaN</td>\n",
       "      <td>NaN</td>\n",
       "    </tr>\n",
       "    <tr>\n",
       "      <th>1</th>\n",
       "      <td>1.327124</td>\n",
       "      <td>103.721782</td>\n",
       "      <td>Jesleen House</td>\n",
       "      <td>NaN</td>\n",
       "      <td>NaN</td>\n",
       "    </tr>\n",
       "    <tr>\n",
       "      <th>2</th>\n",
       "      <td>1.303980</td>\n",
       "      <td>103.832032</td>\n",
       "      <td>Ion Orchard</td>\n",
       "      <td>NaN</td>\n",
       "      <td>NaN</td>\n",
       "    </tr>\n",
       "    <tr>\n",
       "      <th>3</th>\n",
       "      <td>1.356417</td>\n",
       "      <td>103.871870</td>\n",
       "      <td>Serangoon Community Park</td>\n",
       "      <td>house</td>\n",
       "      <td>red</td>\n",
       "    </tr>\n",
       "    <tr>\n",
       "      <th>4</th>\n",
       "      <td>1.277770</td>\n",
       "      <td>103.846331</td>\n",
       "      <td>Cafe Kremes</td>\n",
       "      <td>house</td>\n",
       "      <td>red</td>\n",
       "    </tr>\n",
       "    <tr>\n",
       "      <th>7</th>\n",
       "      <td>1.365789</td>\n",
       "      <td>103.866922</td>\n",
       "      <td>Serangoon Gardens</td>\n",
       "      <td>house</td>\n",
       "      <td>red</td>\n",
       "    </tr>\n",
       "  </tbody>\n",
       "</table>\n",
       "</div>"
      ],
      "text/plain": [
       "        Lat         Lon                   Address   Icon Colour\n",
       "0  1.361187  103.938798                 Our House    NaN    NaN\n",
       "1  1.327124  103.721782             Jesleen House    NaN    NaN\n",
       "2  1.303980  103.832032               Ion Orchard    NaN    NaN\n",
       "3  1.356417  103.871870  Serangoon Community Park  house    red\n",
       "4  1.277770  103.846331               Cafe Kremes  house    red\n",
       "7  1.365789  103.866922         Serangoon Gardens  house    red"
      ]
     },
     "execution_count": 11,
     "metadata": {},
     "output_type": "execute_result"
    }
   ],
   "source": [
    "df_combined.drop_duplicates(inplace=True)\n",
    "df_combined"
   ]
  },
  {
   "cell_type": "code",
   "execution_count": 12,
   "id": "55a3bfe8",
   "metadata": {},
   "outputs": [],
   "source": [
    "df_combined.to_csv('input_file.csv', index=False)"
   ]
  },
  {
   "cell_type": "code",
   "execution_count": null,
   "id": "8a389ad6",
   "metadata": {},
   "outputs": [],
   "source": []
  }
 ],
 "metadata": {
  "kernelspec": {
   "display_name": "Python 3",
   "language": "python",
   "name": "python3"
  },
  "language_info": {
   "codemirror_mode": {
    "name": "ipython",
    "version": 3
   },
   "file_extension": ".py",
   "mimetype": "text/x-python",
   "name": "python",
   "nbconvert_exporter": "python",
   "pygments_lexer": "ipython3",
   "version": "3.9.2"
  },
  "vscode": {
   "interpreter": {
    "hash": "d64a421e1446ce922674641e5cf91e0056585c6176510456d34d1619eb3d0acc"
   }
  }
 },
 "nbformat": 4,
 "nbformat_minor": 5
}
